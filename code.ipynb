{
 "cells": [
  {
   "cell_type": "markdown",
   "metadata": {},
   "source": [
    "# Library Declaration"
   ]
  },
  {
   "cell_type": "code",
   "execution_count": 1,
   "metadata": {},
   "outputs": [],
   "source": [
    "import numpy as np \n",
    "import pandas as pd\n",
    "import matplotlib.pyplot as plt\n",
    "import seaborn as sns\n",
    "from sklearn.model_selection import train_test_split\n",
    "import warnings\n",
    "warnings.filterwarnings('ignore')\n",
    "import os\n",
    "from sklearn.metrics import mean_squared_error\n",
    "from math import sqrt\n",
    "import math"
   ]
  },
  {
   "cell_type": "markdown",
   "metadata": {},
   "source": [
    "# Reading the Dataset"
   ]
  },
  {
   "cell_type": "code",
   "execution_count": 2,
   "metadata": {},
   "outputs": [],
   "source": [
    "tube_values_df = pd.read_csv('tube_values.csv')\n",
    "tube_csv_df = pd.read_csv('tube_csv_1.csv')"
   ]
  },
  {
   "cell_type": "code",
   "execution_count": 3,
   "metadata": {},
   "outputs": [],
   "source": [
    "tube_df = pd.merge(tube_values_df, tube_csv_df, left_on = 'tube_assembly_id', right_on = 'tube_assembly_id',\n",
    "                    how='left', sort=False)"
   ]
  },
  {
   "cell_type": "markdown",
   "metadata": {},
   "source": [
    "# Viewing the shape of the dataset"
   ]
  },
  {
   "cell_type": "code",
   "execution_count": 4,
   "metadata": {},
   "outputs": [
    {
     "data": {
      "text/plain": [
       "(133282, 11)"
      ]
     },
     "execution_count": 4,
     "metadata": {},
     "output_type": "execute_result"
    }
   ],
   "source": [
    "tube_df.shape"
   ]
  },
  {
   "cell_type": "code",
   "execution_count": 5,
   "metadata": {},
   "outputs": [
    {
     "data": {
      "text/plain": [
       "tube_assembly_id     object\n",
       "material_id          object\n",
       "diameter            float64\n",
       "wall                float64\n",
       "length              float64\n",
       "num_bends             int64\n",
       "bend_radius         float64\n",
       "supplier             object\n",
       "quote_date           object\n",
       "quantity            float64\n",
       "cost                float64\n",
       "dtype: object"
      ]
     },
     "execution_count": 5,
     "metadata": {},
     "output_type": "execute_result"
    }
   ],
   "source": [
    "tube_df.dtypes"
   ]
  },
  {
   "cell_type": "code",
   "execution_count": 6,
   "metadata": {},
   "outputs": [
    {
     "data": {
      "text/plain": [
       "<bound method NDFrame.head of        tube_assembly_id material_id  diameter  wall  length  num_bends  \\\n",
       "0              TA-00001     SP-0035     12.70  1.65   164.0          5   \n",
       "1              TA-00001     SP-0035     12.70  1.65   164.0          5   \n",
       "2              TA-00001     SP-0035     12.70  1.65   164.0          5   \n",
       "3              TA-00001     SP-0035     12.70  1.65   164.0          5   \n",
       "4              TA-00001     SP-0035     12.70  1.65   164.0          5   \n",
       "5              TA-00001     SP-0035     12.70  1.65   164.0          5   \n",
       "6              TA-00001     SP-0035     12.70  1.65   164.0          5   \n",
       "7              TA-00001     SP-0035     12.70  1.65   164.0          5   \n",
       "8              TA-00001     SP-0035     12.70  1.65   164.0          5   \n",
       "9              TA-00001     SP-0035     12.70  1.65   164.0          5   \n",
       "10             TA-00001     SP-0035     12.70  1.65   164.0          5   \n",
       "11             TA-00001     SP-0035     12.70  1.65   164.0          5   \n",
       "12             TA-00001     SP-0035     12.70  1.65   164.0          5   \n",
       "13             TA-00001     SP-0035     12.70  1.65   164.0          5   \n",
       "14             TA-00001     SP-0035     12.70  1.65   164.0          5   \n",
       "15             TA-00001     SP-0035     12.70  1.65   164.0          5   \n",
       "16             TA-00001     SP-0035     12.70  1.65   164.0          5   \n",
       "17             TA-00001     SP-0035     12.70  1.65   164.0          5   \n",
       "18             TA-00001     SP-0035     12.70  1.65   164.0          5   \n",
       "19             TA-00001     SP-0035     12.70  1.65   164.0          5   \n",
       "20             TA-00001     SP-0035     12.70  1.65   164.0          5   \n",
       "21             TA-00001     SP-0035     12.70  1.65   164.0          5   \n",
       "22             TA-00001     SP-0035     12.70  1.65   164.0          5   \n",
       "23             TA-00001     SP-0035     12.70  1.65   164.0          5   \n",
       "24             TA-00001     SP-0035     12.70  1.65   164.0          5   \n",
       "25             TA-00001     SP-0035     12.70  1.65   164.0          5   \n",
       "26             TA-00001     SP-0035     12.70  1.65   164.0          5   \n",
       "27             TA-00001     SP-0035     12.70  1.65   164.0          5   \n",
       "28             TA-00001     SP-0035     12.70  1.65   164.0          5   \n",
       "29             TA-00001     SP-0035     12.70  1.65   164.0          5   \n",
       "...                 ...         ...       ...   ...     ...        ...   \n",
       "133252         TA-21188     SP-0029     12.70  1.24    76.0          7   \n",
       "133253         TA-21188     SP-0029     12.70  1.24    76.0          7   \n",
       "133254         TA-21188     SP-0029     12.70  1.24    76.0          7   \n",
       "133255         TA-21188     SP-0029     12.70  1.24    76.0          7   \n",
       "133256         TA-21189     SP-0035     12.70  1.65    86.0          2   \n",
       "133257         TA-21190     SP-0035     15.88  1.65    77.0          5   \n",
       "133258         TA-21191     SP-0035     15.88  1.65    97.0          6   \n",
       "133259         TA-21192     SP-0028     25.40  1.65    57.0          3   \n",
       "133260         TA-21192     SP-0028     25.40  1.65    57.0          3   \n",
       "133261         TA-21192     SP-0028     25.40  1.65    57.0          3   \n",
       "133262         TA-21192     SP-0028     25.40  1.65    57.0          3   \n",
       "133263         TA-21193     SP-0035     15.88  1.65   114.0          5   \n",
       "133264         TA-21193     SP-0035     15.88  1.65   114.0          5   \n",
       "133265         TA-21193     SP-0035     15.88  1.65   114.0          5   \n",
       "133266         TA-21193     SP-0035     15.88  1.65   114.0          5   \n",
       "133267         TA-21194     SP-0035     15.88  1.65   131.0          7   \n",
       "133268         TA-21194     SP-0035     15.88  1.65   131.0          7   \n",
       "133269         TA-21194     SP-0035     15.88  1.65   131.0          7   \n",
       "133270         TA-21194     SP-0035     15.88  1.65   131.0          7   \n",
       "133271         TA-21195     SP-0029     25.40  1.65    86.0          2   \n",
       "133272         TA-21196     SP-0029     34.92  1.65    49.0          2   \n",
       "133273         TA-21197     SP-0029     34.92  1.65    18.0          1   \n",
       "133274         TA-21198     SP-0029    101.60  1.65    63.0          2   \n",
       "133275         TA-21198     SP-0029    101.60  1.65    63.0          2   \n",
       "133276         TA-21198     SP-0029    101.60  1.65    63.0          2   \n",
       "133277         TA-21198     SP-0029    101.60  1.65    63.0          2   \n",
       "133278         TA-21199     SP-0029    101.60  1.65   124.0          3   \n",
       "133279         TA-21199     SP-0029    101.60  1.65   124.0          3   \n",
       "133280         TA-21199     SP-0029    101.60  1.65   124.0          3   \n",
       "133281         TA-21199     SP-0029    101.60  1.65   124.0          3   \n",
       "\n",
       "        bend_radius supplier  quote_date  quantity       cost  \n",
       "0             38.10   S-0066  23-06-2013       1.0  23.367793  \n",
       "1             38.10   S-0066  23-06-2013       2.0  13.193133  \n",
       "2             38.10   S-0066  23-06-2013       5.0   7.606482  \n",
       "3             38.10   S-0066  23-06-2013      10.0   5.714193  \n",
       "4             38.10   S-0066  23-06-2013      25.0   4.301115  \n",
       "5             38.10   S-0066  23-06-2013      50.0   3.968557  \n",
       "6             38.10   S-0066  23-06-2013     100.0   3.873272  \n",
       "7             38.10   S-0066  23-06-2013     250.0   3.801050  \n",
       "8             38.10   S-0066  23-06-2013       1.0  23.367793  \n",
       "9             38.10   S-0066  23-06-2013       2.0  13.193133  \n",
       "10            38.10   S-0066  23-06-2013       5.0   7.606482  \n",
       "11            38.10   S-0066  23-06-2013      10.0   5.714193  \n",
       "12            38.10   S-0066  23-06-2013      25.0   4.301115  \n",
       "13            38.10   S-0066  23-06-2013      50.0   3.968557  \n",
       "14            38.10   S-0066  23-06-2013     100.0   3.873272  \n",
       "15            38.10   S-0066  23-06-2013     250.0   3.801050  \n",
       "16            38.10   S-0066  23-06-2013       1.0  23.367793  \n",
       "17            38.10   S-0066  23-06-2013       2.0  13.193133  \n",
       "18            38.10   S-0066  23-06-2013       5.0   7.606482  \n",
       "19            38.10   S-0066  23-06-2013      10.0   5.714193  \n",
       "20            38.10   S-0066  23-06-2013      25.0   4.301115  \n",
       "21            38.10   S-0066  23-06-2013      50.0   3.968557  \n",
       "22            38.10   S-0066  23-06-2013     100.0   3.873272  \n",
       "23            38.10   S-0066  23-06-2013     250.0   3.801050  \n",
       "24            38.10   S-0066  23-06-2013       1.0  23.367793  \n",
       "25            38.10   S-0066  23-06-2013       2.0  13.193133  \n",
       "26            38.10   S-0066  23-06-2013       5.0   7.606482  \n",
       "27            38.10   S-0066  23-06-2013      10.0   5.714193  \n",
       "28            38.10   S-0066  23-06-2013      25.0   4.301115  \n",
       "29            38.10   S-0066  23-06-2013      50.0   3.968557  \n",
       "...             ...      ...         ...       ...        ...  \n",
       "133252        25.40   S-0072  16-01-2013       1.0   7.525930  \n",
       "133253        25.40   S-0072  16-01-2013       1.0   7.525930  \n",
       "133254        25.40   S-0072  16-01-2013       1.0   7.525930  \n",
       "133255        25.40   S-0072  16-01-2013       1.0   7.525930  \n",
       "133256        38.10      NaN         NaN       NaN        NaN  \n",
       "133257        31.75      NaN         NaN       NaN        NaN  \n",
       "133258        31.75      NaN         NaN       NaN        NaN  \n",
       "133259        50.80   S-0041  05-08-2013      80.0   2.860094  \n",
       "133260        50.80   S-0041  05-08-2013      80.0   2.860094  \n",
       "133261        50.80   S-0041  05-08-2013      80.0   2.860094  \n",
       "133262        50.80   S-0041  05-08-2013      80.0   2.860094  \n",
       "133263        38.10   S-0041  10-09-2013      75.0   9.677277  \n",
       "133264        38.10   S-0041  10-09-2013      75.0   9.677277  \n",
       "133265        38.10   S-0041  10-09-2013      75.0   9.677277  \n",
       "133266        38.10   S-0041  10-09-2013      75.0   9.677277  \n",
       "133267        38.10   S-0041  10-09-2013      85.0   7.935492  \n",
       "133268        38.10   S-0041  10-09-2013      85.0   7.935492  \n",
       "133269        38.10   S-0041  10-09-2013      85.0   7.935492  \n",
       "133270        38.10   S-0041  10-09-2013      85.0   7.935492  \n",
       "133271        38.10      NaN         NaN       NaN        NaN  \n",
       "133272        50.80      NaN         NaN       NaN        NaN  \n",
       "133273        50.80      NaN         NaN       NaN        NaN  \n",
       "133274       101.60   S-0026  16-09-2003       1.0  56.016391  \n",
       "133275       101.60   S-0026  16-09-2003       1.0  56.016391  \n",
       "133276       101.60   S-0026  16-09-2003       1.0  56.016391  \n",
       "133277       101.60   S-0026  16-09-2003       1.0  56.016391  \n",
       "133278       101.60   S-0026  16-09-2003       1.0  47.890196  \n",
       "133279       101.60   S-0026  16-09-2003       1.0  47.890196  \n",
       "133280       101.60   S-0026  16-09-2003       1.0  47.890196  \n",
       "133281       101.60   S-0026  16-09-2003       1.0  47.890196  \n",
       "\n",
       "[133282 rows x 11 columns]>"
      ]
     },
     "execution_count": 6,
     "metadata": {},
     "output_type": "execute_result"
    }
   ],
   "source": [
    "tube_df.head"
   ]
  },
  {
   "cell_type": "code",
   "execution_count": 7,
   "metadata": {},
   "outputs": [
    {
     "name": "stdout",
     "output_type": "stream",
     "text": [
      "<class 'pandas.core.frame.DataFrame'>\n",
      "Int64Index: 133282 entries, 0 to 133281\n",
      "Data columns (total 11 columns):\n",
      "tube_assembly_id    133282 non-null object\n",
      "material_id         133282 non-null object\n",
      "diameter            133282 non-null float64\n",
      "wall                133282 non-null float64\n",
      "length              133282 non-null float64\n",
      "num_bends           133282 non-null int64\n",
      "bend_radius         133282 non-null float64\n",
      "supplier            120940 non-null object\n",
      "quote_date          120940 non-null object\n",
      "quantity            120940 non-null float64\n",
      "cost                120940 non-null float64\n",
      "dtypes: float64(6), int64(1), object(4)\n",
      "memory usage: 12.2+ MB\n"
     ]
    }
   ],
   "source": [
    "tube_df.info()"
   ]
  },
  {
   "cell_type": "code",
   "execution_count": 8,
   "metadata": {},
   "outputs": [],
   "source": [
    "# Renaming the Required attributes"
   ]
  },
  {
   "cell_type": "code",
   "execution_count": 9,
   "metadata": {},
   "outputs": [],
   "source": [
    "tube_df.rename(columns={'num_bends':'num_of_bends', 'wall':'thickness', 'supplier' : 'supplier_id'},inplace=True)"
   ]
  },
  {
   "cell_type": "code",
   "execution_count": 10,
   "metadata": {},
   "outputs": [
    {
     "name": "stdout",
     "output_type": "stream",
     "text": [
      "<class 'pandas.core.frame.DataFrame'>\n",
      "Int64Index: 133282 entries, 0 to 133281\n",
      "Data columns (total 11 columns):\n",
      "tube_assembly_id    133282 non-null object\n",
      "material_id         133282 non-null object\n",
      "diameter            133282 non-null float64\n",
      "thickness           133282 non-null float64\n",
      "length              133282 non-null float64\n",
      "num_of_bends        133282 non-null int64\n",
      "bend_radius         133282 non-null float64\n",
      "supplier_id         120940 non-null object\n",
      "quote_date          120940 non-null object\n",
      "quantity            120940 non-null float64\n",
      "cost                120940 non-null float64\n",
      "dtypes: float64(6), int64(1), object(4)\n",
      "memory usage: 12.2+ MB\n"
     ]
    }
   ],
   "source": [
    "tube_df.info()"
   ]
  },
  {
   "cell_type": "code",
   "execution_count": 11,
   "metadata": {},
   "outputs": [
    {
     "data": {
      "text/plain": [
       "count    120940.000000\n",
       "mean         11.953127\n",
       "std          17.478134\n",
       "min           1.033103\n",
       "25%           4.077638\n",
       "50%           6.794205\n",
       "75%          13.544820\n",
       "max         511.357119\n",
       "Name: cost, dtype: float64"
      ]
     },
     "execution_count": 11,
     "metadata": {},
     "output_type": "execute_result"
    }
   ],
   "source": [
    "tube_df['cost'].describe()"
   ]
  },
  {
   "cell_type": "code",
   "execution_count": 12,
   "metadata": {},
   "outputs": [
    {
     "data": {
      "text/plain": [
       "count    133282.000000\n",
       "mean        100.181394\n",
       "std          64.023497\n",
       "min           0.000000\n",
       "25%          50.000000\n",
       "50%          88.000000\n",
       "75%         137.000000\n",
       "max        1333.000000\n",
       "Name: length, dtype: float64"
      ]
     },
     "execution_count": 12,
     "metadata": {},
     "output_type": "execute_result"
    }
   ],
   "source": [
    "tube_df['length'].describe()"
   ]
  },
  {
   "cell_type": "code",
   "execution_count": 13,
   "metadata": {},
   "outputs": [
    {
     "data": {
      "text/plain": [
       "count    133282.000000\n",
       "mean         44.939153\n",
       "std         237.947665\n",
       "min           0.000000\n",
       "25%          19.050000\n",
       "50%          31.800000\n",
       "75%          50.800000\n",
       "max        9999.000000\n",
       "Name: bend_radius, dtype: float64"
      ]
     },
     "execution_count": 13,
     "metadata": {},
     "output_type": "execute_result"
    }
   ],
   "source": [
    "tube_df['bend_radius'].describe()"
   ]
  },
  {
   "cell_type": "code",
   "execution_count": 14,
   "metadata": {},
   "outputs": [
    {
     "data": {
      "text/plain": [
       "count    133282.000000\n",
       "mean          1.400057\n",
       "std           0.684755\n",
       "min           0.710000\n",
       "25%           0.890000\n",
       "50%           1.240000\n",
       "75%           1.650000\n",
       "max           7.900000\n",
       "Name: thickness, dtype: float64"
      ]
     },
     "execution_count": 14,
     "metadata": {},
     "output_type": "execute_result"
    }
   ],
   "source": [
    "tube_df['thickness'].describe()"
   ]
  },
  {
   "cell_type": "code",
   "execution_count": 15,
   "metadata": {},
   "outputs": [
    {
     "data": {
      "text/plain": [
       "count    133282.000000\n",
       "mean         17.887524\n",
       "std          19.050707\n",
       "min           3.180000\n",
       "25%           9.520000\n",
       "50%          12.700000\n",
       "75%          19.050000\n",
       "max         203.200000\n",
       "Name: diameter, dtype: float64"
      ]
     },
     "execution_count": 15,
     "metadata": {},
     "output_type": "execute_result"
    }
   ],
   "source": [
    "tube_df['diameter'].describe()"
   ]
  },
  {
   "cell_type": "code",
   "execution_count": 16,
   "metadata": {},
   "outputs": [
    {
     "data": {
      "text/plain": [
       "count    133282.000000\n",
       "mean          3.854204\n",
       "std           2.210464\n",
       "min           0.000000\n",
       "25%           2.000000\n",
       "50%           4.000000\n",
       "75%           5.000000\n",
       "max          17.000000\n",
       "Name: num_of_bends, dtype: float64"
      ]
     },
     "execution_count": 16,
     "metadata": {},
     "output_type": "execute_result"
    }
   ],
   "source": [
    "tube_df['num_of_bends'].describe()"
   ]
  },
  {
   "cell_type": "markdown",
   "metadata": {},
   "source": [
    "# Visualizing missing values"
   ]
  },
  {
   "cell_type": "code",
   "execution_count": 17,
   "metadata": {},
   "outputs": [
    {
     "data": {
      "text/plain": [
       "tube_assembly_id        0\n",
       "material_id             0\n",
       "diameter                0\n",
       "thickness               0\n",
       "length                  0\n",
       "num_of_bends            0\n",
       "bend_radius             0\n",
       "supplier_id         12342\n",
       "quote_date          12342\n",
       "quantity            12342\n",
       "cost                12342\n",
       "dtype: int64"
      ]
     },
     "execution_count": 17,
     "metadata": {},
     "output_type": "execute_result"
    }
   ],
   "source": [
    "tube_df.isnull().sum()"
   ]
  },
  {
   "cell_type": "code",
   "execution_count": 18,
   "metadata": {},
   "outputs": [
    {
     "data": {
      "text/plain": [
       "tube_assembly_id    0\n",
       "material_id         0\n",
       "diameter            0\n",
       "thickness           0\n",
       "length              0\n",
       "num_of_bends        0\n",
       "bend_radius         0\n",
       "supplier_id         0\n",
       "quote_date          0\n",
       "quantity            0\n",
       "cost                0\n",
       "dtype: int64"
      ]
     },
     "execution_count": 18,
     "metadata": {},
     "output_type": "execute_result"
    }
   ],
   "source": [
    "tube_df.dropna(inplace=True)\n",
    "tube_df.isnull().sum()"
   ]
  },
  {
   "cell_type": "markdown",
   "metadata": {},
   "source": [
    "# Data Visualization"
   ]
  },
  {
   "cell_type": "code",
   "execution_count": 19,
   "metadata": {},
   "outputs": [
    {
     "name": "stdout",
     "output_type": "stream",
     "text": [
      "CATEGORICAL_FEATURES\n",
      "['tube_assembly_id', 'material_id', 'supplier_id', 'quote_date']\n",
      "\n",
      "NUMERICAL_FEATURES\n",
      "['diameter', 'thickness', 'length', 'num_of_bends', 'bend_radius', 'quantity', 'cost']\n"
     ]
    }
   ],
   "source": [
    "print(\"CATEGORICAL_FEATURES\")\n",
    "cat_feature=[col for col in tube_df.columns if tube_df[col].dtypes=='O']\n",
    "print(cat_feature)\n",
    "print()\n",
    "print(\"NUMERICAL_FEATURES\")\n",
    "num_feature=[col for col in tube_df.columns if tube_df[col].dtypes!='O']\n",
    "print(num_feature)"
   ]
  },
  {
   "cell_type": "code",
   "execution_count": 20,
   "metadata": {},
   "outputs": [
    {
     "data": {
      "image/png": "[encoded data removed]",
      "text/plain": [
       "<Figure size 576x432 with 1 Axes>"
      ]
     },
     "metadata": {
      "needs_background": "light"
     },
     "output_type": "display_data"
    }
   ],
   "source": [
    "ax = tube_df[['material_id','cost']].groupby(['material_id']).sum().reset_index().plot(kind='bar', figsize=(8, 6),\n",
    "                                       legend = False, title =\"Costs depending on different materials\", \n",
    "                                       color='orange', fontsize=12)\n",
    "ax.set_xlabel(\"Material\", fontsize=12)\n",
    "ax.set_ylabel(\"Cost\", fontsize=12)\n",
    "plt.show()"
   ]
  },
  {
   "cell_type": "code",
   "execution_count": 21,
   "metadata": {},
   "outputs": [
    {
     "data": {
      "text/plain": [
       "Text(0, 0.5, 'Quantity')"
      ]
     },
     "execution_count": 21,
     "metadata": {},
     "output_type": "execute_result"
    },
    {
     "data": {
      "image/png": "[encoded data removed]",
      "text/plain": [
       "<Figure size 432x288 with 1 Axes>"
      ]
     },
     "metadata": {
      "needs_background": "light"
     },
     "output_type": "display_data"
    }
   ],
   "source": [
    "plt.scatter(tube_df.cost,tube_df.quantity)\n",
    "plt.xlabel('Cost')\n",
    "plt.ylabel('Quantity')\n"
   ]
  },
  {
   "cell_type": "code",
   "execution_count": 22,
   "metadata": {},
   "outputs": [
    {
     "data": {
      "text/plain": [
       "Text(0, 0.5, 'Count')"
      ]
     },
     "execution_count": 22,
     "metadata": {},
     "output_type": "execute_result"
    },
    {
     "data": {
      "image/png": "[encoded data removed]",
      "text/plain": [
       "<Figure size 432x288 with 1 Axes>"
      ]
     },
     "metadata": {
      "needs_background": "light"
     },
     "output_type": "display_data"
    }
   ],
   "source": [
    "np.log(tube_df['cost'] + 1).hist(bins=100)\n",
    "plt.xlabel('Cost')\n",
    "plt.ylabel('Count')\n"
   ]
  },
  {
   "cell_type": "code",
   "execution_count": 23,
   "metadata": {},
   "outputs": [
    {
     "data": {
      "text/plain": [
       "Text(0, 0.5, 'Count')"
      ]
     },
     "execution_count": 23,
     "metadata": {},
     "output_type": "execute_result"
    },
    {
     "data": {
      "image/png": "[encoded data removed]",
      "text/plain": [
       "<Figure size 720x432 with 1 Axes>"
      ]
     },
     "metadata": {
      "needs_background": "light"
     },
     "output_type": "display_data"
    }
   ],
   "source": [
    "diameter = tube_df['diameter']\n",
    "diameter.hist(bins = 30, figsize=(10,6), color = 'blue', alpha = 0.75)\n",
    "plt.xlabel('Diameter')\n",
    "plt.ylabel('Count')\n",
    "#Maximun number of diameters of the tube is between 0-30"
   ]
  },
  {
   "cell_type": "code",
   "execution_count": 24,
   "metadata": {},
   "outputs": [
    {
     "data": {
      "text/plain": [
       "Text(0, 0.5, 'Count')"
      ]
     },
     "execution_count": 24,
     "metadata": {},
     "output_type": "execute_result"
    },
    {
     "data": {
      "image/png": "[encoded data removed]",
      "text/plain": [
       "<Figure size 720x432 with 1 Axes>"
      ]
     },
     "metadata": {
      "needs_background": "light"
     },
     "output_type": "display_data"
    }
   ],
   "source": [
    "thickness = tube_df['thickness']\n",
    "thickness.hist(bins = 15, figsize=(10,6), color = 'violet', alpha = 0.90)\n",
    "plt.xlabel('Thickness')\n",
    "plt.ylabel('Count')\n",
    "#Maximun number of thickness values of the tubes are between 0.5-1.8"
   ]
  },
  {
   "cell_type": "code",
   "execution_count": 25,
   "metadata": {},
   "outputs": [
    {
     "data": {
      "text/plain": [
       "Text(0, 0.5, 'Count')"
      ]
     },
     "execution_count": 25,
     "metadata": {},
     "output_type": "execute_result"
    },
    {
     "data": {
      "image/png": "[encoded data removed]",
      "text/plain": [
       "<Figure size 720x432 with 1 Axes>"
      ]
     },
     "metadata": {
      "needs_background": "light"
     },
     "output_type": "display_data"
    }
   ],
   "source": [
    "length = tube_df['length']\n",
    "length.hist(bins = 50, figsize=(10,6), color = 'red', alpha = 0.75)\n",
    "plt.xlabel('length')\n",
    "plt.ylabel('Count')\n",
    "#Here we see that shorter tubes less than 150 are dominant"
   ]
  },
  {
   "cell_type": "code",
   "execution_count": 26,
   "metadata": {},
   "outputs": [
    {
     "data": {
      "text/plain": [
       "Text(0, 0.5, 'Count')"
      ]
     },
     "execution_count": 26,
     "metadata": {},
     "output_type": "execute_result"
    },
    {
     "data": {
      "image/png": "[encoded data removed]",
      "text/plain": [
       "<Figure size 720x432 with 1 Axes>"
      ]
     },
     "metadata": {
      "needs_background": "light"
     },
     "output_type": "display_data"
    }
   ],
   "source": [
    "bends = tube_df['num_of_bends']\n",
    "bends.hist(bins = 15, figsize=(10,6), color = 'blue', alpha = 0.75)\n",
    "plt.xlabel('Number of bends')\n",
    "plt.ylabel('Count')\n",
    "#Tubes with 1.9-5.5 seems to be more dominant"
   ]
  },
  {
   "cell_type": "code",
   "execution_count": 27,
   "metadata": {},
   "outputs": [
    {
     "data": {
      "text/html": [
       "<div>\n",
       "<style scoped>\n",
       "    .dataframe tbody tr th:only-of-type {\n",
       "        vertical-align: middle;\n",
       "    }\n",
       "\n",
       "    .dataframe tbody tr th {\n",
       "        vertical-align: top;\n",
       "    }\n",
       "\n",
       "    .dataframe thead th {\n",
       "        text-align: right;\n",
       "    }\n",
       "</style>\n",
       "<table border=\"1\" class=\"dataframe\">\n",
       "  <thead>\n",
       "    <tr style=\"text-align: right;\">\n",
       "      <th></th>\n",
       "      <th>diameter</th>\n",
       "      <th>thickness</th>\n",
       "      <th>length</th>\n",
       "      <th>num_of_bends</th>\n",
       "      <th>bend_radius</th>\n",
       "      <th>quantity</th>\n",
       "      <th>cost</th>\n",
       "    </tr>\n",
       "  </thead>\n",
       "  <tbody>\n",
       "    <tr>\n",
       "      <th>diameter</th>\n",
       "      <td>1.000000</td>\n",
       "      <td>0.396465</td>\n",
       "      <td>0.032874</td>\n",
       "      <td>-0.239463</td>\n",
       "      <td>0.114526</td>\n",
       "      <td>-0.109509</td>\n",
       "      <td>0.435247</td>\n",
       "    </tr>\n",
       "    <tr>\n",
       "      <th>thickness</th>\n",
       "      <td>0.396465</td>\n",
       "      <td>1.000000</td>\n",
       "      <td>0.110839</td>\n",
       "      <td>-0.136167</td>\n",
       "      <td>0.146834</td>\n",
       "      <td>-0.066558</td>\n",
       "      <td>0.362024</td>\n",
       "    </tr>\n",
       "    <tr>\n",
       "      <th>length</th>\n",
       "      <td>0.032874</td>\n",
       "      <td>0.110839</td>\n",
       "      <td>1.000000</td>\n",
       "      <td>0.501988</td>\n",
       "      <td>-0.000242</td>\n",
       "      <td>0.005226</td>\n",
       "      <td>0.139821</td>\n",
       "    </tr>\n",
       "    <tr>\n",
       "      <th>num_of_bends</th>\n",
       "      <td>-0.239463</td>\n",
       "      <td>-0.136167</td>\n",
       "      <td>0.501988</td>\n",
       "      <td>1.000000</td>\n",
       "      <td>-0.044802</td>\n",
       "      <td>0.018848</td>\n",
       "      <td>-0.080073</td>\n",
       "    </tr>\n",
       "    <tr>\n",
       "      <th>bend_radius</th>\n",
       "      <td>0.114526</td>\n",
       "      <td>0.146834</td>\n",
       "      <td>-0.000242</td>\n",
       "      <td>-0.044802</td>\n",
       "      <td>1.000000</td>\n",
       "      <td>-0.018745</td>\n",
       "      <td>0.070833</td>\n",
       "    </tr>\n",
       "    <tr>\n",
       "      <th>quantity</th>\n",
       "      <td>-0.109509</td>\n",
       "      <td>-0.066558</td>\n",
       "      <td>0.005226</td>\n",
       "      <td>0.018848</td>\n",
       "      <td>-0.018745</td>\n",
       "      <td>1.000000</td>\n",
       "      <td>-0.224809</td>\n",
       "    </tr>\n",
       "    <tr>\n",
       "      <th>cost</th>\n",
       "      <td>0.435247</td>\n",
       "      <td>0.362024</td>\n",
       "      <td>0.139821</td>\n",
       "      <td>-0.080073</td>\n",
       "      <td>0.070833</td>\n",
       "      <td>-0.224809</td>\n",
       "      <td>1.000000</td>\n",
       "    </tr>\n",
       "  </tbody>\n",
       "</table>\n",
       "</div>"
      ],
      "text/plain": [
       "              diameter  thickness    length  num_of_bends  bend_radius  \\\n",
       "diameter      1.000000   0.396465  0.032874     -0.239463     0.114526   \n",
       "thickness     0.396465   1.000000  0.110839     -0.136167     0.146834   \n",
       "length        0.032874   0.110839  1.000000      0.501988    -0.000242   \n",
       "num_of_bends -0.239463  -0.136167  0.501988      1.000000    -0.044802   \n",
       "bend_radius   0.114526   0.146834 -0.000242     -0.044802     1.000000   \n",
       "quantity     -0.109509  -0.066558  0.005226      0.018848    -0.018745   \n",
       "cost          0.435247   0.362024  0.139821     -0.080073     0.070833   \n",
       "\n",
       "              quantity      cost  \n",
       "diameter     -0.109509  0.435247  \n",
       "thickness    -0.066558  0.362024  \n",
       "length        0.005226  0.139821  \n",
       "num_of_bends  0.018848 -0.080073  \n",
       "bend_radius  -0.018745  0.070833  \n",
       "quantity      1.000000 -0.224809  \n",
       "cost         -0.224809  1.000000  "
      ]
     },
     "execution_count": 27,
     "metadata": {},
     "output_type": "execute_result"
    }
   ],
   "source": [
    "tube_df.corr()"
   ]
  },
  {
   "cell_type": "code",
   "execution_count": 28,
   "metadata": {},
   "outputs": [
    {
     "data": {
      "text/plain": [
       "<matplotlib.axes._subplots.AxesSubplot at 0x23efa5cfc18>"
      ]
     },
     "execution_count": 28,
     "metadata": {},
     "output_type": "execute_result"
    },
    {
     "data": {
      "image/png": "[encoded data removed]",
      "text/plain": [
       "<Figure size 1080x864 with 2 Axes>"
      ]
     },
     "metadata": {
      "needs_background": "light"
     },
     "output_type": "display_data"
    }
   ],
   "source": [
    "#Now lets make heatmaps and cluster maps of the correlations of the numerical colunms of tube data frame..\n",
    "corr_df= tube_df.corr()\n",
    "plt.figure(figsize=(15,12))\n",
    "sns.heatmap(corr_df, vmax = 1, vmin = -1, annot=True,linewidths=.5, cmap = 'winter')"
   ]
  },
  {
   "cell_type": "code",
   "execution_count": 29,
   "metadata": {},
   "outputs": [
    {
     "data": {
      "text/plain": [
       "Text(0.5, 1.0, 'Mean(Cost) per Quantity')"
      ]
     },
     "execution_count": 29,
     "metadata": {},
     "output_type": "execute_result"
    },
    {
     "data": {
      "image/png": "[encoded data removed]",
      "text/plain": [
       "<Figure size 864x432 with 1 Axes>"
      ]
     },
     "metadata": {
      "needs_background": "light"
     },
     "output_type": "display_data"
    }
   ],
   "source": [
    "fig= plt.figure(figsize=(12,6))\n",
    "sns.pointplot(x ='quantity', y = 'cost', data = tube_df,color=\"#bb3f3f\", markers=\"D\")\n",
    "plt.xlim((0,20))\n",
    "plt.title('Mean(Cost) per Quantity')"
   ]
  },
  {
   "cell_type": "code",
   "execution_count": 30,
   "metadata": {},
   "outputs": [
    {
     "data": {
      "text/plain": [
       "Text(0.5, 1.0, 'Cost per volume quantity')"
      ]
     },
     "execution_count": 30,
     "metadata": {},
     "output_type": "execute_result"
    },
    {
     "data": {
      "image/png": "[encoded data removed]",
      "text/plain": [
       "<Figure size 720x360 with 1 Axes>"
      ]
     },
     "metadata": {
      "needs_background": "light"
     },
     "output_type": "display_data"
    }
   ],
   "source": [
    "sns.lmplot(x = 'quantity', y = 'cost', data = tube_df, aspect=2, fit_reg=False, markers='o',\n",
    "          x_jitter=0.5)\n",
    "plt.xlim((0,50))\n",
    "plt.title('Cost per volume quantity')\n",
    "#Most of the quantities are in the range of 1-5\n",
    "#And as the quanitity is increasing the cost is decreasing."
   ]
  },
  {
   "cell_type": "code",
   "execution_count": 31,
   "metadata": {},
   "outputs": [
    {
     "data": {
      "text/plain": [
       "Text(0.5, 1.0, 'Mean(Cost) per Bend')"
      ]
     },
     "execution_count": 31,
     "metadata": {},
     "output_type": "execute_result"
    },
    {
     "data": {
      "image/png": "[encoded data removed]",
      "text/plain": [
       "<Figure size 864x432 with 1 Axes>"
      ]
     },
     "metadata": {
      "needs_background": "light"
     },
     "output_type": "display_data"
    }
   ],
   "source": [
    "fig= plt.figure(figsize=(12,6))\n",
    "sns.pointplot(x ='num_of_bends', y = 'cost', data = tube_df,color=\"#bb3f3f\", markers=\"D\")\n",
    "plt.xlim((0,20))\n",
    "plt.title('Mean(Cost) per Bend')"
   ]
  },
  {
   "cell_type": "markdown",
   "metadata": {},
   "source": [
    "# Dropping Columns"
   ]
  },
  {
   "cell_type": "code",
   "execution_count": 32,
   "metadata": {},
   "outputs": [
    {
     "data": {
      "text/html": [
       "<div>\n",
       "<style scoped>\n",
       "    .dataframe tbody tr th:only-of-type {\n",
       "        vertical-align: middle;\n",
       "    }\n",
       "\n",
       "    .dataframe tbody tr th {\n",
       "        vertical-align: top;\n",
       "    }\n",
       "\n",
       "    .dataframe thead th {\n",
       "        text-align: right;\n",
       "    }\n",
       "</style>\n",
       "<table border=\"1\" class=\"dataframe\">\n",
       "  <thead>\n",
       "    <tr style=\"text-align: right;\">\n",
       "      <th></th>\n",
       "      <th>tube_assembly_id</th>\n",
       "      <th>diameter</th>\n",
       "      <th>thickness</th>\n",
       "      <th>length</th>\n",
       "      <th>num_of_bends</th>\n",
       "      <th>bend_radius</th>\n",
       "      <th>supplier_id</th>\n",
       "      <th>quote_date</th>\n",
       "      <th>quantity</th>\n",
       "      <th>cost</th>\n",
       "    </tr>\n",
       "  </thead>\n",
       "  <tbody>\n",
       "    <tr>\n",
       "      <th>0</th>\n",
       "      <td>TA-00001</td>\n",
       "      <td>12.7</td>\n",
       "      <td>1.65</td>\n",
       "      <td>164.0</td>\n",
       "      <td>5</td>\n",
       "      <td>38.1</td>\n",
       "      <td>S-0066</td>\n",
       "      <td>23-06-2013</td>\n",
       "      <td>1.0</td>\n",
       "      <td>23.367793</td>\n",
       "    </tr>\n",
       "    <tr>\n",
       "      <th>1</th>\n",
       "      <td>TA-00001</td>\n",
       "      <td>12.7</td>\n",
       "      <td>1.65</td>\n",
       "      <td>164.0</td>\n",
       "      <td>5</td>\n",
       "      <td>38.1</td>\n",
       "      <td>S-0066</td>\n",
       "      <td>23-06-2013</td>\n",
       "      <td>2.0</td>\n",
       "      <td>13.193133</td>\n",
       "    </tr>\n",
       "    <tr>\n",
       "      <th>2</th>\n",
       "      <td>TA-00001</td>\n",
       "      <td>12.7</td>\n",
       "      <td>1.65</td>\n",
       "      <td>164.0</td>\n",
       "      <td>5</td>\n",
       "      <td>38.1</td>\n",
       "      <td>S-0066</td>\n",
       "      <td>23-06-2013</td>\n",
       "      <td>5.0</td>\n",
       "      <td>7.606482</td>\n",
       "    </tr>\n",
       "    <tr>\n",
       "      <th>3</th>\n",
       "      <td>TA-00001</td>\n",
       "      <td>12.7</td>\n",
       "      <td>1.65</td>\n",
       "      <td>164.0</td>\n",
       "      <td>5</td>\n",
       "      <td>38.1</td>\n",
       "      <td>S-0066</td>\n",
       "      <td>23-06-2013</td>\n",
       "      <td>10.0</td>\n",
       "      <td>5.714193</td>\n",
       "    </tr>\n",
       "    <tr>\n",
       "      <th>4</th>\n",
       "      <td>TA-00001</td>\n",
       "      <td>12.7</td>\n",
       "      <td>1.65</td>\n",
       "      <td>164.0</td>\n",
       "      <td>5</td>\n",
       "      <td>38.1</td>\n",
       "      <td>S-0066</td>\n",
       "      <td>23-06-2013</td>\n",
       "      <td>25.0</td>\n",
       "      <td>4.301115</td>\n",
       "    </tr>\n",
       "  </tbody>\n",
       "</table>\n",
       "</div>"
      ],
      "text/plain": [
       "  tube_assembly_id  diameter  thickness  length  num_of_bends  bend_radius  \\\n",
       "0         TA-00001      12.7       1.65   164.0             5         38.1   \n",
       "1         TA-00001      12.7       1.65   164.0             5         38.1   \n",
       "2         TA-00001      12.7       1.65   164.0             5         38.1   \n",
       "3         TA-00001      12.7       1.65   164.0             5         38.1   \n",
       "4         TA-00001      12.7       1.65   164.0             5         38.1   \n",
       "\n",
       "  supplier_id  quote_date  quantity       cost  \n",
       "0      S-0066  23-06-2013       1.0  23.367793  \n",
       "1      S-0066  23-06-2013       2.0  13.193133  \n",
       "2      S-0066  23-06-2013       5.0   7.606482  \n",
       "3      S-0066  23-06-2013      10.0   5.714193  \n",
       "4      S-0066  23-06-2013      25.0   4.301115  "
      ]
     },
     "execution_count": 32,
     "metadata": {},
     "output_type": "execute_result"
    }
   ],
   "source": [
    "tube_df.drop('material_id',axis=1,inplace=True)\n",
    "tube_df.head()"
   ]
  },
  {
   "cell_type": "code",
   "execution_count": 33,
   "metadata": {},
   "outputs": [
    {
     "data": {
      "text/html": [
       "<div>\n",
       "<style scoped>\n",
       "    .dataframe tbody tr th:only-of-type {\n",
       "        vertical-align: middle;\n",
       "    }\n",
       "\n",
       "    .dataframe tbody tr th {\n",
       "        vertical-align: top;\n",
       "    }\n",
       "\n",
       "    .dataframe thead th {\n",
       "        text-align: right;\n",
       "    }\n",
       "</style>\n",
       "<table border=\"1\" class=\"dataframe\">\n",
       "  <thead>\n",
       "    <tr style=\"text-align: right;\">\n",
       "      <th></th>\n",
       "      <th>tube_assembly_id</th>\n",
       "      <th>diameter</th>\n",
       "      <th>thickness</th>\n",
       "      <th>length</th>\n",
       "      <th>num_of_bends</th>\n",
       "      <th>bend_radius</th>\n",
       "      <th>quote_date</th>\n",
       "      <th>quantity</th>\n",
       "      <th>cost</th>\n",
       "    </tr>\n",
       "  </thead>\n",
       "  <tbody>\n",
       "    <tr>\n",
       "      <th>0</th>\n",
       "      <td>TA-00001</td>\n",
       "      <td>12.7</td>\n",
       "      <td>1.65</td>\n",
       "      <td>164.0</td>\n",
       "      <td>5</td>\n",
       "      <td>38.1</td>\n",
       "      <td>23-06-2013</td>\n",
       "      <td>1.0</td>\n",
       "      <td>23.367793</td>\n",
       "    </tr>\n",
       "    <tr>\n",
       "      <th>1</th>\n",
       "      <td>TA-00001</td>\n",
       "      <td>12.7</td>\n",
       "      <td>1.65</td>\n",
       "      <td>164.0</td>\n",
       "      <td>5</td>\n",
       "      <td>38.1</td>\n",
       "      <td>23-06-2013</td>\n",
       "      <td>2.0</td>\n",
       "      <td>13.193133</td>\n",
       "    </tr>\n",
       "    <tr>\n",
       "      <th>2</th>\n",
       "      <td>TA-00001</td>\n",
       "      <td>12.7</td>\n",
       "      <td>1.65</td>\n",
       "      <td>164.0</td>\n",
       "      <td>5</td>\n",
       "      <td>38.1</td>\n",
       "      <td>23-06-2013</td>\n",
       "      <td>5.0</td>\n",
       "      <td>7.606482</td>\n",
       "    </tr>\n",
       "    <tr>\n",
       "      <th>3</th>\n",
       "      <td>TA-00001</td>\n",
       "      <td>12.7</td>\n",
       "      <td>1.65</td>\n",
       "      <td>164.0</td>\n",
       "      <td>5</td>\n",
       "      <td>38.1</td>\n",
       "      <td>23-06-2013</td>\n",
       "      <td>10.0</td>\n",
       "      <td>5.714193</td>\n",
       "    </tr>\n",
       "    <tr>\n",
       "      <th>4</th>\n",
       "      <td>TA-00001</td>\n",
       "      <td>12.7</td>\n",
       "      <td>1.65</td>\n",
       "      <td>164.0</td>\n",
       "      <td>5</td>\n",
       "      <td>38.1</td>\n",
       "      <td>23-06-2013</td>\n",
       "      <td>25.0</td>\n",
       "      <td>4.301115</td>\n",
       "    </tr>\n",
       "  </tbody>\n",
       "</table>\n",
       "</div>"
      ],
      "text/plain": [
       "  tube_assembly_id  diameter  thickness  length  num_of_bends  bend_radius  \\\n",
       "0         TA-00001      12.7       1.65   164.0             5         38.1   \n",
       "1         TA-00001      12.7       1.65   164.0             5         38.1   \n",
       "2         TA-00001      12.7       1.65   164.0             5         38.1   \n",
       "3         TA-00001      12.7       1.65   164.0             5         38.1   \n",
       "4         TA-00001      12.7       1.65   164.0             5         38.1   \n",
       "\n",
       "   quote_date  quantity       cost  \n",
       "0  23-06-2013       1.0  23.367793  \n",
       "1  23-06-2013       2.0  13.193133  \n",
       "2  23-06-2013       5.0   7.606482  \n",
       "3  23-06-2013      10.0   5.714193  \n",
       "4  23-06-2013      25.0   4.301115  "
      ]
     },
     "execution_count": 33,
     "metadata": {},
     "output_type": "execute_result"
    }
   ],
   "source": [
    "tube_df.drop('supplier_id',axis=1,inplace=True)\n",
    "tube_df.head()"
   ]
  },
  {
   "cell_type": "code",
   "execution_count": 34,
   "metadata": {},
   "outputs": [
    {
     "data": {
      "text/html": [
       "<div>\n",
       "<style scoped>\n",
       "    .dataframe tbody tr th:only-of-type {\n",
       "        vertical-align: middle;\n",
       "    }\n",
       "\n",
       "    .dataframe tbody tr th {\n",
       "        vertical-align: top;\n",
       "    }\n",
       "\n",
       "    .dataframe thead th {\n",
       "        text-align: right;\n",
       "    }\n",
       "</style>\n",
       "<table border=\"1\" class=\"dataframe\">\n",
       "  <thead>\n",
       "    <tr style=\"text-align: right;\">\n",
       "      <th></th>\n",
       "      <th>tube_assembly_id</th>\n",
       "      <th>diameter</th>\n",
       "      <th>thickness</th>\n",
       "      <th>length</th>\n",
       "      <th>num_of_bends</th>\n",
       "      <th>bend_radius</th>\n",
       "      <th>quantity</th>\n",
       "      <th>cost</th>\n",
       "    </tr>\n",
       "  </thead>\n",
       "  <tbody>\n",
       "    <tr>\n",
       "      <th>0</th>\n",
       "      <td>TA-00001</td>\n",
       "      <td>12.7</td>\n",
       "      <td>1.65</td>\n",
       "      <td>164.0</td>\n",
       "      <td>5</td>\n",
       "      <td>38.1</td>\n",
       "      <td>1.0</td>\n",
       "      <td>23.367793</td>\n",
       "    </tr>\n",
       "    <tr>\n",
       "      <th>1</th>\n",
       "      <td>TA-00001</td>\n",
       "      <td>12.7</td>\n",
       "      <td>1.65</td>\n",
       "      <td>164.0</td>\n",
       "      <td>5</td>\n",
       "      <td>38.1</td>\n",
       "      <td>2.0</td>\n",
       "      <td>13.193133</td>\n",
       "    </tr>\n",
       "    <tr>\n",
       "      <th>2</th>\n",
       "      <td>TA-00001</td>\n",
       "      <td>12.7</td>\n",
       "      <td>1.65</td>\n",
       "      <td>164.0</td>\n",
       "      <td>5</td>\n",
       "      <td>38.1</td>\n",
       "      <td>5.0</td>\n",
       "      <td>7.606482</td>\n",
       "    </tr>\n",
       "    <tr>\n",
       "      <th>3</th>\n",
       "      <td>TA-00001</td>\n",
       "      <td>12.7</td>\n",
       "      <td>1.65</td>\n",
       "      <td>164.0</td>\n",
       "      <td>5</td>\n",
       "      <td>38.1</td>\n",
       "      <td>10.0</td>\n",
       "      <td>5.714193</td>\n",
       "    </tr>\n",
       "    <tr>\n",
       "      <th>4</th>\n",
       "      <td>TA-00001</td>\n",
       "      <td>12.7</td>\n",
       "      <td>1.65</td>\n",
       "      <td>164.0</td>\n",
       "      <td>5</td>\n",
       "      <td>38.1</td>\n",
       "      <td>25.0</td>\n",
       "      <td>4.301115</td>\n",
       "    </tr>\n",
       "  </tbody>\n",
       "</table>\n",
       "</div>"
      ],
      "text/plain": [
       "  tube_assembly_id  diameter  thickness  length  num_of_bends  bend_radius  \\\n",
       "0         TA-00001      12.7       1.65   164.0             5         38.1   \n",
       "1         TA-00001      12.7       1.65   164.0             5         38.1   \n",
       "2         TA-00001      12.7       1.65   164.0             5         38.1   \n",
       "3         TA-00001      12.7       1.65   164.0             5         38.1   \n",
       "4         TA-00001      12.7       1.65   164.0             5         38.1   \n",
       "\n",
       "   quantity       cost  \n",
       "0       1.0  23.367793  \n",
       "1       2.0  13.193133  \n",
       "2       5.0   7.606482  \n",
       "3      10.0   5.714193  \n",
       "4      25.0   4.301115  "
      ]
     },
     "execution_count": 34,
     "metadata": {},
     "output_type": "execute_result"
    }
   ],
   "source": [
    "tube_df.drop('quote_date',axis=1,inplace=True)\n",
    "tube_df.head()"
   ]
  },
  {
   "cell_type": "code",
   "execution_count": 35,
   "metadata": {},
   "outputs": [
    {
     "name": "stdout",
     "output_type": "stream",
     "text": [
      "<class 'pandas.core.frame.DataFrame'>\n",
      "Int64Index: 120940 entries, 0 to 133281\n",
      "Data columns (total 8 columns):\n",
      "tube_assembly_id    120940 non-null object\n",
      "diameter            120940 non-null float64\n",
      "thickness           120940 non-null float64\n",
      "length              120940 non-null float64\n",
      "num_of_bends        120940 non-null int64\n",
      "bend_radius         120940 non-null float64\n",
      "quantity            120940 non-null float64\n",
      "cost                120940 non-null float64\n",
      "dtypes: float64(6), int64(1), object(1)\n",
      "memory usage: 13.3+ MB\n"
     ]
    }
   ],
   "source": [
    "tube_df.info()"
   ]
  },
  {
   "cell_type": "code",
   "execution_count": 36,
   "metadata": {},
   "outputs": [],
   "source": [
    "from sklearn.preprocessing import LabelEncoder\n",
    "le = LabelEncoder()    \n",
    "tube_df['tube_assembly_id'] = le.fit_transform(tube_df['tube_assembly_id'])\n"
   ]
  },
  {
   "cell_type": "code",
   "execution_count": 37,
   "metadata": {
    "scrolled": true
   },
   "outputs": [
    {
     "data": {
      "text/html": [
       "<div>\n",
       "<style scoped>\n",
       "    .dataframe tbody tr th:only-of-type {\n",
       "        vertical-align: middle;\n",
       "    }\n",
       "\n",
       "    .dataframe tbody tr th {\n",
       "        vertical-align: top;\n",
       "    }\n",
       "\n",
       "    .dataframe thead th {\n",
       "        text-align: right;\n",
       "    }\n",
       "</style>\n",
       "<table border=\"1\" class=\"dataframe\">\n",
       "  <thead>\n",
       "    <tr style=\"text-align: right;\">\n",
       "      <th></th>\n",
       "      <th>tube_assembly_id</th>\n",
       "      <th>diameter</th>\n",
       "      <th>thickness</th>\n",
       "      <th>length</th>\n",
       "      <th>num_of_bends</th>\n",
       "      <th>bend_radius</th>\n",
       "      <th>quantity</th>\n",
       "      <th>cost</th>\n",
       "    </tr>\n",
       "  </thead>\n",
       "  <tbody>\n",
       "    <tr>\n",
       "      <th>0</th>\n",
       "      <td>0</td>\n",
       "      <td>12.7</td>\n",
       "      <td>1.65</td>\n",
       "      <td>164.0</td>\n",
       "      <td>5</td>\n",
       "      <td>38.1</td>\n",
       "      <td>1</td>\n",
       "      <td>23</td>\n",
       "    </tr>\n",
       "    <tr>\n",
       "      <th>1</th>\n",
       "      <td>0</td>\n",
       "      <td>12.7</td>\n",
       "      <td>1.65</td>\n",
       "      <td>164.0</td>\n",
       "      <td>5</td>\n",
       "      <td>38.1</td>\n",
       "      <td>2</td>\n",
       "      <td>13</td>\n",
       "    </tr>\n",
       "    <tr>\n",
       "      <th>2</th>\n",
       "      <td>0</td>\n",
       "      <td>12.7</td>\n",
       "      <td>1.65</td>\n",
       "      <td>164.0</td>\n",
       "      <td>5</td>\n",
       "      <td>38.1</td>\n",
       "      <td>5</td>\n",
       "      <td>7</td>\n",
       "    </tr>\n",
       "    <tr>\n",
       "      <th>3</th>\n",
       "      <td>0</td>\n",
       "      <td>12.7</td>\n",
       "      <td>1.65</td>\n",
       "      <td>164.0</td>\n",
       "      <td>5</td>\n",
       "      <td>38.1</td>\n",
       "      <td>10</td>\n",
       "      <td>5</td>\n",
       "    </tr>\n",
       "    <tr>\n",
       "      <th>4</th>\n",
       "      <td>0</td>\n",
       "      <td>12.7</td>\n",
       "      <td>1.65</td>\n",
       "      <td>164.0</td>\n",
       "      <td>5</td>\n",
       "      <td>38.1</td>\n",
       "      <td>25</td>\n",
       "      <td>4</td>\n",
       "    </tr>\n",
       "  </tbody>\n",
       "</table>\n",
       "</div>"
      ],
      "text/plain": [
       "   tube_assembly_id  diameter  thickness  length  num_of_bends  bend_radius  \\\n",
       "0                 0      12.7       1.65   164.0             5         38.1   \n",
       "1                 0      12.7       1.65   164.0             5         38.1   \n",
       "2                 0      12.7       1.65   164.0             5         38.1   \n",
       "3                 0      12.7       1.65   164.0             5         38.1   \n",
       "4                 0      12.7       1.65   164.0             5         38.1   \n",
       "\n",
       "   quantity  cost  \n",
       "0         1    23  \n",
       "1         2    13  \n",
       "2         5     7  \n",
       "3        10     5  \n",
       "4        25     4  "
      ]
     },
     "execution_count": 37,
     "metadata": {},
     "output_type": "execute_result"
    }
   ],
   "source": [
    "tube_df['cost'] = tube_df['cost'].astype(int)\n",
    "tube_df['quantity'] = tube_df['quantity'].astype(int)\n",
    "tube_df.head()"
   ]
  },
  {
   "cell_type": "code",
   "execution_count": 38,
   "metadata": {},
   "outputs": [
    {
     "name": "stdout",
     "output_type": "stream",
     "text": [
      "<class 'pandas.core.frame.DataFrame'>\n",
      "Int64Index: 120940 entries, 0 to 133281\n",
      "Data columns (total 8 columns):\n",
      "tube_assembly_id    120940 non-null int32\n",
      "diameter            120940 non-null float64\n",
      "thickness           120940 non-null float64\n",
      "length              120940 non-null float64\n",
      "num_of_bends        120940 non-null int64\n",
      "bend_radius         120940 non-null float64\n",
      "quantity            120940 non-null int32\n",
      "cost                120940 non-null int32\n",
      "dtypes: float64(4), int32(3), int64(1)\n",
      "memory usage: 11.9 MB\n"
     ]
    }
   ],
   "source": [
    "tube_df.info()"
   ]
  },
  {
   "cell_type": "code",
   "execution_count": 39,
   "metadata": {},
   "outputs": [],
   "source": [
    "x = tube_df.iloc[:,0:-1] \n",
    "y = tube_df.iloc[:,-1]"
   ]
  },
  {
   "cell_type": "code",
   "execution_count": 40,
   "metadata": {},
   "outputs": [],
   "source": [
    "from sklearn import preprocessing,metrics,linear_model\n",
    "from sklearn.model_selection import cross_val_score,cross_val_predict,train_test_split\n",
    "\n",
    "X_train,X_test,y_train,y_test=train_test_split(x,y,test_size=0.2)\n"
   ]
  },
  {
   "cell_type": "code",
   "execution_count": 41,
   "metadata": {},
   "outputs": [],
   "source": [
    "def rmsle(y_pred, y_test) : \n",
    "    assert len(y_test) == len(y_pred)\n",
    "    return np.sqrt(np.mean((np.log(1+y_pred) - np.log(1+y_test))**2))"
   ]
  },
  {
   "cell_type": "code",
   "execution_count": 42,
   "metadata": {},
   "outputs": [],
   "source": [
    "from sklearn.preprocessing import StandardScaler\n",
    "sc_x = StandardScaler()\n",
    "sc_y = StandardScaler()\n",
    "X_train = sc_x.fit_transform(X_train)\n",
    "X_test = sc_x.transform(X_test)"
   ]
  },
  {
   "cell_type": "code",
   "execution_count": 43,
   "metadata": {},
   "outputs": [],
   "source": [
    "import pickle\n",
    "pickle.dump(sc_x, open(\"scalerX\", \"wb\"))"
   ]
  },
  {
   "cell_type": "code",
   "execution_count": 44,
   "metadata": {},
   "outputs": [],
   "source": [
    "X_scaler = StandardScaler().fit(X_train)\n",
    "X_train_scaled = X_scaler.transform(X_train)\n",
    "X_test_scaled = X_scaler.transform(X_test)"
   ]
  },
  {
   "cell_type": "markdown",
   "metadata": {},
   "source": [
    "# Linear Regression Model"
   ]
  },
  {
   "cell_type": "code",
   "execution_count": 45,
   "metadata": {},
   "outputs": [],
   "source": [
    "from sklearn import linear_model\n",
    "lr_model = linear_model.LinearRegression()\n",
    "lr_model.fit(X_train, y_train)\n",
    "y_pred_tr = lr_model.predict(X_train)\n",
    "y_pred_lr = lr_model.predict(X_test)"
   ]
  },
  {
   "cell_type": "code",
   "execution_count": 46,
   "metadata": {},
   "outputs": [
    {
     "name": "stdout",
     "output_type": "stream",
     "text": [
      "Testing\n",
      "Root Mean squared error : 15.72\n",
      "Mean absolute error : 7.86\n",
      "RMSLE : 0.73 \n"
     ]
    }
   ],
   "source": [
    "print(\"Testing\")\n",
    "print(\"Root Mean squared error : %.2f\" \n",
    "      % sqrt(mean_squared_error(y_test, y_pred_lr)))\n",
    "mae=metrics.mean_absolute_error(y_test,y_pred_lr)\n",
    "print(\"Mean absolute error : %.2f\"%mae)\n",
    "print(\"RMSLE : %.2f \"%rmsle(y_pred_lr,y_test))"
   ]
  },
  {
   "cell_type": "code",
   "execution_count": 47,
   "metadata": {},
   "outputs": [
    {
     "name": "stdout",
     "output_type": "stream",
     "text": [
      "Training\n",
      "Root Mean squared error : 14.67\n",
      "Mean absolute error : 7.67\n",
      "RMSLE : 0.74 \n"
     ]
    }
   ],
   "source": [
    "print(\"Training\")\n",
    "print(\"Root Mean squared error : %.2f\" \n",
    "      % sqrt(mean_squared_error(y_train, y_pred_tr)))\n",
    "mae=metrics.mean_absolute_error(y_train,y_pred_tr)\n",
    "print(\"Mean absolute error : %.2f\"%mae)\n",
    "print(\"RMSLE : %.2f \"%rmsle(y_pred_tr,y_train))"
   ]
  },
  {
   "cell_type": "markdown",
   "metadata": {},
   "source": [
    "# Polynomial Features Regression"
   ]
  },
  {
   "cell_type": "code",
   "execution_count": 48,
   "metadata": {},
   "outputs": [],
   "source": [
    "from sklearn.preprocessing import PolynomialFeatures\n",
    "poly_feat = PolynomialFeatures(2)\n",
    "X_train_poly = poly_feat.fit_transform(X_train)\n",
    "X_test_poly = poly_feat.fit_transform(X_test)"
   ]
  },
  {
   "cell_type": "code",
   "execution_count": 49,
   "metadata": {},
   "outputs": [],
   "source": [
    "from sklearn import linear_model\n",
    "lr_model= linear_model.LinearRegression()\n",
    "lr_model.fit(X_train_poly, y_train)\n",
    "y_tr_py = lr_model.predict(X_train_poly)\n",
    "y_pred_pr = lr_model.predict(X_test_poly)"
   ]
  },
  {
   "cell_type": "code",
   "execution_count": 50,
   "metadata": {},
   "outputs": [
    {
     "name": "stdout",
     "output_type": "stream",
     "text": [
      "Testing\n",
      "Root Mean squared error : 14.80\n",
      "Mean absolute error : 7.40\n",
      "RMSLE : 0.78 \n"
     ]
    }
   ],
   "source": [
    "print(\"Testing\")\n",
    "print(\"Root Mean squared error : %.2f\" \n",
    "      % sqrt(mean_squared_error(y_test, y_pred_pr)))\n",
    "mae=metrics.mean_absolute_error(y_test,y_pred_pr)\n",
    "print(\"Mean absolute error : %.2f\"%mae)\n",
    "print(\"RMSLE : %.2f \"%rmsle(y_pred_pr,y_test))"
   ]
  },
  {
   "cell_type": "code",
   "execution_count": 51,
   "metadata": {},
   "outputs": [
    {
     "name": "stdout",
     "output_type": "stream",
     "text": [
      "Training\n",
      "Root Mean squared error : 13.86\n",
      "Mean absolute error : 7.25\n",
      "RMSLE : 0.77 \n"
     ]
    }
   ],
   "source": [
    "print(\"Training\")\n",
    "print(\"Root Mean squared error : %.2f\" \n",
    "      % sqrt(mean_squared_error(y_train, y_tr_py)))\n",
    "mae=metrics.mean_absolute_error(y_train,y_tr_py)\n",
    "print(\"Mean absolute error : %.2f\"%mae)\n",
    "print(\"RMSLE : %.2f \"%rmsle(y_tr_py,y_train))"
   ]
  },
  {
   "cell_type": "markdown",
   "metadata": {},
   "source": [
    "# RandomForest Classifier"
   ]
  },
  {
   "cell_type": "code",
   "execution_count": 52,
   "metadata": {},
   "outputs": [],
   "source": [
    "from sklearn.ensemble import RandomForestClassifier\n",
    "rf = RandomForestClassifier(n_estimators = 11, max_features ='auto') \n",
    "\n",
    "rf.fit(X_train,y_train)\n",
    "y_tr_rf = rf.predict(X_train)\n",
    "y_pred_rfc = rf.predict(X_test) "
   ]
  },
  {
   "cell_type": "code",
   "execution_count": 53,
   "metadata": {},
   "outputs": [
    {
     "name": "stdout",
     "output_type": "stream",
     "text": [
      "Testing\n",
      "Root Mean squared error : 1.78\n",
      "Mean absolute error : 0.11\n",
      "RMSLE : 0.08 \n"
     ]
    }
   ],
   "source": [
    "print(\"Testing\")\n",
    "print(\"Root Mean squared error : %.2f\" \n",
    "      % sqrt(mean_squared_error(y_test, y_pred_rfc)))\n",
    "mae=metrics.mean_absolute_error(y_test,y_pred_rfc)\n",
    "print(\"Mean absolute error : %.2f\"%mae)\n",
    "print(\"RMSLE : %.2f \"%rmsle(y_pred_rfc,y_test))"
   ]
  },
  {
   "cell_type": "code",
   "execution_count": 54,
   "metadata": {},
   "outputs": [
    {
     "name": "stdout",
     "output_type": "stream",
     "text": [
      "Training\n",
      "Root Mean squared error : 1.48\n",
      "Mean absolute error : 0.05\n",
      "RMSLE : 0.05 \n"
     ]
    }
   ],
   "source": [
    "print(\"Training\")\n",
    "print(\"Root Mean squared error : %.2f\" \n",
    "      % sqrt(mean_squared_error(y_train, y_tr_rf)))\n",
    "mae=metrics.mean_absolute_error(y_train,y_tr_rf)\n",
    "print(\"Mean absolute error : %.2f\"%mae)\n",
    "print(\"RMSLE : %.2f \"%rmsle(y_tr_rf,y_train))"
   ]
  },
  {
   "cell_type": "markdown",
   "metadata": {},
   "source": [
    "# Decision Tree"
   ]
  },
  {
   "cell_type": "code",
   "execution_count": 55,
   "metadata": {},
   "outputs": [],
   "source": [
    "from sklearn.tree import DecisionTreeClassifier\n",
    "dtr=DecisionTreeClassifier(min_samples_split=2,max_leaf_nodes=10)\n"
   ]
  },
  {
   "cell_type": "code",
   "execution_count": 56,
   "metadata": {},
   "outputs": [],
   "source": [
    "dtr.fit(X_train,y_train)\n",
    "y_tr_dt = dtr.predict(X_train)\n",
    "y_pred_dtr=dtr.predict(X_test)"
   ]
  },
  {
   "cell_type": "code",
   "execution_count": 57,
   "metadata": {},
   "outputs": [
    {
     "name": "stdout",
     "output_type": "stream",
     "text": [
      "Testing\n",
      "Root Mean squared error : 16.96\n",
      "Mean absolute error : 5.70\n",
      "RMSLE : 0.61 \n"
     ]
    }
   ],
   "source": [
    "print(\"Testing\")\n",
    "print(\"Root Mean squared error : %.2f\" \n",
    "     % sqrt(mean_squared_error(y_test, y_pred_dtr)))\n",
    "mae=metrics.mean_absolute_error(y_test,y_pred_dtr)\n",
    "print(\"Mean absolute error : %.2f\"%mae)\n",
    "print(\"RMSLE : %.2f \"%rmsle(y_pred_dtr,y_test))"
   ]
  },
  {
   "cell_type": "code",
   "execution_count": 58,
   "metadata": {},
   "outputs": [
    {
     "name": "stdout",
     "output_type": "stream",
     "text": [
      "Training\n",
      "Root Mean squared error : 15.86\n",
      "Mean absolute error : 5.56\n",
      "RMSLE : 0.60 \n"
     ]
    }
   ],
   "source": [
    "print(\"Training\")\n",
    "print(\"Root Mean squared error : %.2f\" \n",
    "      % sqrt(mean_squared_error(y_train, y_tr_dt)))\n",
    "mae=metrics.mean_absolute_error(y_train,y_tr_dt)\n",
    "print(\"Mean absolute error : %.2f\"%mae)\n",
    "print(\"RMSLE : %.2f \"%rmsle(y_tr_dt,y_train))"
   ]
  },
  {
   "cell_type": "markdown",
   "metadata": {},
   "source": [
    "# KNN(K-Nearest Neighbors)"
   ]
  },
  {
   "cell_type": "code",
   "execution_count": 59,
   "metadata": {},
   "outputs": [],
   "source": [
    "from sklearn.neighbors import KNeighborsClassifier \n",
    "knn = KNeighborsClassifier(n_neighbors = 3)\n",
    "knn.fit(X_train, y_train)\n",
    "y_tr_knn = knn.predict(X_train)\n",
    "y_pred_knn = knn.predict(X_test)"
   ]
  },
  {
   "cell_type": "code",
   "execution_count": 60,
   "metadata": {},
   "outputs": [
    {
     "name": "stdout",
     "output_type": "stream",
     "text": [
      "Testing\n",
      "Root Mean squared error : 4.91\n",
      "Mean absolute error : 0.73\n",
      "RMSLE : 0.19 \n"
     ]
    }
   ],
   "source": [
    "print(\"Testing\")\n",
    "print(\"Root Mean squared error : %.2f\" \n",
    "     % sqrt(mean_squared_error(y_test, y_pred_knn)))\n",
    "mae=metrics.mean_absolute_error(y_test,y_pred_knn)\n",
    "print(\"Mean absolute error : %.2f\"%mae)\n",
    "print(\"RMSLE : %.2f \"%rmsle(y_pred_knn,y_test))"
   ]
  },
  {
   "cell_type": "code",
   "execution_count": 61,
   "metadata": {},
   "outputs": [
    {
     "name": "stdout",
     "output_type": "stream",
     "text": [
      "Training\n",
      "Root Mean squared error : 2.08\n",
      "Mean absolute error : 0.11\n",
      "RMSLE : 0.07 \n"
     ]
    }
   ],
   "source": [
    "print(\"Training\")\n",
    "print(\"Root Mean squared error : %.2f\" \n",
    "      % sqrt(mean_squared_error(y_train, y_tr_knn)))\n",
    "mae=metrics.mean_absolute_error(y_train,y_tr_knn)\n",
    "print(\"Mean absolute error : %.2f\"%mae)\n",
    "print(\"RMSLE : %.2f \"%rmsle(y_tr_knn,y_train))"
   ]
  },
  {
   "cell_type": "markdown",
   "metadata": {},
   "source": [
    "# Comparing The models"
   ]
  },
  {
   "cell_type": "code",
   "execution_count": 62,
   "metadata": {
    "scrolled": false
   },
   "outputs": [
    {
     "name": "stdout",
     "output_type": "stream",
     "text": [
      "RandomForest          : 0.08 \n",
      "Decision Tree         : 0.61 \n",
      "Polynomial Regression : 0.78 \n",
      "Linear Regression     : 0.73 \n",
      "KNN                   : 0.19 \n"
     ]
    }
   ],
   "source": [
    "print(\"RandomForest          : %.2f \"%rmsle(y_pred_rfc,y_test))\n",
    "print(\"Decision Tree         : %.2f \"%rmsle(y_pred_dtr,y_test))\n",
    "print(\"Polynomial Regression : %.2f \"%rmsle(y_pred_pr,y_test))\n",
    "print(\"Linear Regression     : %.2f \"%rmsle(y_pred_lr,y_test))\n",
    "print(\"KNN                   : %.2f \"%rmsle(y_pred_knn,y_test))"
   ]
  },
  {
   "cell_type": "markdown",
   "metadata": {},
   "source": [
    "# Saving the Model"
   ]
  },
  {
   "cell_type": "code",
   "execution_count": 63,
   "metadata": {},
   "outputs": [
    {
     "data": {
      "text/plain": [
       "['model.sav']"
      ]
     },
     "execution_count": 63,
     "metadata": {},
     "output_type": "execute_result"
    }
   ],
   "source": [
    "import joblib\n",
    "filename = 'model.sav'\n",
    "joblib.dump(rf, filename)"
   ]
  },
  {
   "cell_type": "code",
   "execution_count": null,
   "metadata": {},
   "outputs": [],
   "source": []
  },
  {
   "cell_type": "code",
   "execution_count": null,
   "metadata": {},
   "outputs": [],
   "source": []
  }
 ],
 "metadata": {
  "kernelspec": {
   "display_name": "Python 3",
   "language": "python",
   "name": "python3"
  },
  "language_info": {
   "codemirror_mode": {
    "name": "ipython",
    "version": 3
   },
   "file_extension": ".py",
   "mimetype": "text/x-python",
   "name": "python",
   "nbconvert_exporter": "python",
   "pygments_lexer": "ipython3",
   "version": "3.7.3"
  }
 },
 "nbformat": 4,
 "nbformat_minor": 2
}
